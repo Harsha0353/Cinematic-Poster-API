{
 "cells": [
  {
   "cell_type": "code",
   "execution_count": 2,
   "id": "db165359",
   "metadata": {},
   "outputs": [
    {
     "name": "stdout",
     "output_type": "stream",
     "text": [
      "Enter movie or series: game of thrones\n",
      "{'Title': 'Game of Thrones', 'Year': '2011–2019', 'Rated': 'TV-MA', 'Released': '17 Apr 2011', 'Runtime': '57 min', 'Genre': 'Action, Adventure, Drama', 'Director': 'N/A', 'Writer': 'David Benioff, D.B. Weiss', 'Actors': 'Emilia Clarke, Peter Dinklage, Kit Harington', 'Plot': 'Nine noble families fight for control over the lands of Westeros, while an ancient enemy returns after being dormant for millennia.', 'Language': 'English', 'Country': 'United States, United Kingdom', 'Awards': 'Won 59 Primetime Emmys. 389 wins & 634 nominations total', 'Poster': 'https://m.media-amazon.com/images/M/MV5BN2IzYzBiOTQtNGZmMi00NDI5LTgxMzMtN2EzZjA1NjhlOGMxXkEyXkFqcGdeQXVyNjAwNDUxODI@._V1_SX300.jpg', 'Ratings': [{'Source': 'Internet Movie Database', 'Value': '9.2/10'}], 'Metascore': 'N/A', 'imdbRating': '9.2', 'imdbVotes': '2,172,079', 'imdbID': 'tt0944947', 'Type': 'series', 'totalSeasons': '8', 'Response': 'True'}\n"
     ]
    }
   ],
   "source": [
    "import os\n",
    "import requests\n",
    "from PIL import Image\n",
    "from io import BytesIO\n",
    "\n",
    "def get_movie_details_from_omdb(movie_name):\n",
    "    url = f\"http://www.omdbapi.com/?t={movie_name}&apikey=993fbae\"\n",
    "    response = requests.get(url)\n",
    "    return response.json()\n",
    "\n",
    "def display_movie_poster(movie_data):\n",
    "    poster_url = movie_data.get('Poster', '')\n",
    "\n",
    "    if poster_url:\n",
    "        response = requests.get(poster_url)\n",
    "        if response.status_code == 200:\n",
    "            image = Image.open(BytesIO(response.content))\n",
    "            image.show()\n",
    "        else:\n",
    "            print(\"Failed to fetch movie poster.\")\n",
    "    else:\n",
    "        print(\"Movie poster not available.\")\n",
    "    \n",
    "movie_name = input(\"Enter movie or series: \")\n",
    "response_data = get_movie_details_from_omdb(movie_name)\n",
    "print(response_data)\n",
    "display_movie_poster(response_data)"
   ]
  },
  {
   "cell_type": "code",
   "execution_count": null,
   "id": "78dd8cdc",
   "metadata": {},
   "outputs": [],
   "source": []
  }
 ],
 "metadata": {
  "kernelspec": {
   "display_name": "Python 3 (ipykernel)",
   "language": "python",
   "name": "python3"
  },
  "language_info": {
   "codemirror_mode": {
    "name": "ipython",
    "version": 3
   },
   "file_extension": ".py",
   "mimetype": "text/x-python",
   "name": "python",
   "nbconvert_exporter": "python",
   "pygments_lexer": "ipython3",
   "version": "3.9.12"
  }
 },
 "nbformat": 4,
 "nbformat_minor": 5
}
